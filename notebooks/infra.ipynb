{
 "cells": [
  {
   "cell_type": "code",
   "execution_count": 1,
   "metadata": {},
   "outputs": [],
   "source": [
    "# specify the aws profile and region you want to use to deploy the stack\n",
    "aws_profile=\"bbdev\"\n",
    "region_name=\"us-east-2\"\n",
    "binary_name=\"lambda\""
   ]
  },
  {
   "cell_type": "markdown",
   "metadata": {},
   "source": [
    "# Create AWS Lambda function"
   ]
  },
  {
   "cell_type": "markdown",
   "metadata": {},
   "source": [
    "Create a terraform container containing the binary to be deployed and the infra script, with `terraform init` already executed."
   ]
  },
  {
   "cell_type": "code",
   "execution_count": null,
   "metadata": {},
   "outputs": [],
   "source": [
    "%%bash -s \"$binary_name\"\n",
    "date\n",
    "DOCKER_BUILDKIT=1 docker build -q \\\n",
    "    -f Dockerfile \\\n",
    "    --build-arg BIN_NAME=$1 \\\n",
    "    --target terraform \\\n",
    "    -t cloudfuse/cloud-reader-terraform \\\n",
    "    .."
   ]
  },
  {
   "cell_type": "code",
   "execution_count": null,
   "metadata": {},
   "outputs": [],
   "source": [
    "%%bash -s \"$aws_profile\" \"$region_name\" \"$binary_name\"\n",
    "date\n",
    "docker run \\\n",
    "    --rm \\\n",
    "    -v $HOME/.aws/credentials:/creds:ro \\\n",
    "    -v cloud-reader-tf:/mnt/state_vol \\\n",
    "    cloudfuse/cloud-reader-terraform apply -var=\"profile=$1\" -var=\"region_name=$2\" -var=\"binary_name=$3\" -auto-approve"
   ]
  },
  {
   "cell_type": "markdown",
   "metadata": {},
   "source": [
    "# Destroy AWS Lambda function"
   ]
  },
  {
   "cell_type": "code",
   "execution_count": 6,
   "metadata": {},
   "outputs": [
    {
     "name": "stdout",
     "output_type": "stream",
     "text": [
      "Fri Jul 30 22:22:33 CEST 2021\n",
      "\u001b[0m\u001b[1mmodule.lambda_function.aws_cloudwatch_log_group.lambda[0]: Refreshing state... [id=/aws/lambda/cloud-reader-benchmark]\u001b[0m\n",
      "\u001b[0m\u001b[1mmodule.lambda_function.aws_iam_role.lambda[0]: Refreshing state... [id=cloud-reader-benchmark]\u001b[0m\n",
      "\u001b[0m\u001b[1mmodule.lambda_function.aws_iam_policy.logs[0]: Refreshing state... [id=arn:aws:iam::615900053518:policy/cloud-reader-benchmark-logs]\u001b[0m\n",
      "\u001b[0m\u001b[1mmodule.lambda_function.aws_lambda_function.this[0]: Refreshing state... [id=cloud-reader-benchmark]\u001b[0m\n",
      "\u001b[0m\u001b[1mmodule.lambda_function.aws_iam_policy_attachment.logs[0]: Refreshing state... [id=cloud-reader-benchmark-logs]\u001b[0m\n",
      "\n",
      "Terraform used the selected providers to generate the following execution\n",
      "plan. Resource actions are indicated with the following symbols:\n",
      "  \u001b[31m-\u001b[0m destroy\n",
      "\u001b[0m\n",
      "Terraform will perform the following actions:\n",
      "\n",
      "\u001b[1m  # module.lambda_function.aws_cloudwatch_log_group.lambda[0]\u001b[0m will be \u001b[1m\u001b[31mdestroyed\u001b[0m\u001b[0m\n",
      "\u001b[0m  \u001b[31m-\u001b[0m\u001b[0m resource \"aws_cloudwatch_log_group\" \"lambda\" {\n",
      "      \u001b[31m-\u001b[0m \u001b[0m\u001b[1m\u001b[0marn\u001b[0m\u001b[0m               = \"arn:aws:logs:us-east-2:615900053518:log-group:/aws/lambda/cloud-reader-benchmark\" \u001b[90m->\u001b[0m \u001b[0m\u001b[90mnull\u001b[0m\u001b[0m\n",
      "      \u001b[31m-\u001b[0m \u001b[0m\u001b[1m\u001b[0mid\u001b[0m\u001b[0m                = \"/aws/lambda/cloud-reader-benchmark\" \u001b[90m->\u001b[0m \u001b[0m\u001b[90mnull\u001b[0m\u001b[0m\n",
      "      \u001b[31m-\u001b[0m \u001b[0m\u001b[1m\u001b[0mname\u001b[0m\u001b[0m              = \"/aws/lambda/cloud-reader-benchmark\" \u001b[90m->\u001b[0m \u001b[0m\u001b[90mnull\u001b[0m\u001b[0m\n",
      "      \u001b[31m-\u001b[0m \u001b[0m\u001b[1m\u001b[0mretention_in_days\u001b[0m\u001b[0m = 0 \u001b[90m->\u001b[0m \u001b[0m\u001b[90mnull\u001b[0m\u001b[0m\n",
      "      \u001b[31m-\u001b[0m \u001b[0m\u001b[1m\u001b[0mtags\u001b[0m\u001b[0m              = {\n",
      "          \u001b[31m-\u001b[0m \u001b[0m\"Name\" = \"cloud-reader-benchmark\"\n",
      "        } \u001b[90m->\u001b[0m \u001b[0m\u001b[90mnull\u001b[0m\u001b[0m\n",
      "      \u001b[31m-\u001b[0m \u001b[0m\u001b[1m\u001b[0mtags_all\u001b[0m\u001b[0m          = {\n",
      "          \u001b[31m-\u001b[0m \u001b[0m\"Name\" = \"cloud-reader-benchmark\"\n",
      "        } \u001b[90m->\u001b[0m \u001b[0m\u001b[90mnull\u001b[0m\u001b[0m\n",
      "    }\n",
      "\n",
      "\u001b[1m  # module.lambda_function.aws_iam_policy.logs[0]\u001b[0m will be \u001b[1m\u001b[31mdestroyed\u001b[0m\u001b[0m\n",
      "\u001b[0m  \u001b[31m-\u001b[0m\u001b[0m resource \"aws_iam_policy\" \"logs\" {\n",
      "      \u001b[31m-\u001b[0m \u001b[0m\u001b[1m\u001b[0marn\u001b[0m\u001b[0m       = \"arn:aws:iam::615900053518:policy/cloud-reader-benchmark-logs\" \u001b[90m->\u001b[0m \u001b[0m\u001b[90mnull\u001b[0m\u001b[0m\n",
      "      \u001b[31m-\u001b[0m \u001b[0m\u001b[1m\u001b[0mid\u001b[0m\u001b[0m        = \"arn:aws:iam::615900053518:policy/cloud-reader-benchmark-logs\" \u001b[90m->\u001b[0m \u001b[0m\u001b[90mnull\u001b[0m\u001b[0m\n",
      "      \u001b[31m-\u001b[0m \u001b[0m\u001b[1m\u001b[0mname\u001b[0m\u001b[0m      = \"cloud-reader-benchmark-logs\" \u001b[90m->\u001b[0m \u001b[0m\u001b[90mnull\u001b[0m\u001b[0m\n",
      "      \u001b[31m-\u001b[0m \u001b[0m\u001b[1m\u001b[0mpath\u001b[0m\u001b[0m      = \"/\" \u001b[90m->\u001b[0m \u001b[0m\u001b[90mnull\u001b[0m\u001b[0m\n",
      "      \u001b[31m-\u001b[0m \u001b[0m\u001b[1m\u001b[0mpolicy\u001b[0m\u001b[0m    = jsonencode(\n",
      "            {\n",
      "              \u001b[31m-\u001b[0m \u001b[0mStatement = [\n",
      "                  \u001b[31m-\u001b[0m \u001b[0m{\n",
      "                      \u001b[31m-\u001b[0m \u001b[0mAction   = [\n",
      "                          \u001b[31m-\u001b[0m \u001b[0m\"logs:PutLogEvents\",\n",
      "                          \u001b[31m-\u001b[0m \u001b[0m\"logs:CreateLogStream\",\n",
      "                          \u001b[31m-\u001b[0m \u001b[0m\"logs:CreateLogGroup\",\n",
      "                        ]\n",
      "                      \u001b[31m-\u001b[0m \u001b[0mEffect   = \"Allow\"\n",
      "                      \u001b[31m-\u001b[0m \u001b[0mResource = [\n",
      "                          \u001b[31m-\u001b[0m \u001b[0m\"arn:aws:logs:us-east-2:615900053518:log-group:/aws/lambda/cloud-reader-benchmark:*:*\",\n",
      "                          \u001b[31m-\u001b[0m \u001b[0m\"arn:aws:logs:us-east-2:615900053518:log-group:/aws/lambda/cloud-reader-benchmark:*\",\n",
      "                        ]\n",
      "                      \u001b[31m-\u001b[0m \u001b[0mSid      = \"\"\n",
      "                    },\n",
      "                ]\n",
      "              \u001b[31m-\u001b[0m \u001b[0mVersion   = \"2012-10-17\"\n",
      "            }\n",
      "        ) \u001b[90m->\u001b[0m \u001b[0m\u001b[90mnull\u001b[0m\u001b[0m\n",
      "      \u001b[31m-\u001b[0m \u001b[0m\u001b[1m\u001b[0mpolicy_id\u001b[0m\u001b[0m = \"ANPAY6ZUBAAHA5LZY6RGQ\" \u001b[90m->\u001b[0m \u001b[0m\u001b[90mnull\u001b[0m\u001b[0m\n",
      "      \u001b[31m-\u001b[0m \u001b[0m\u001b[1m\u001b[0mtags\u001b[0m\u001b[0m      = {\n",
      "          \u001b[31m-\u001b[0m \u001b[0m\"Name\" = \"cloud-reader-benchmark\"\n",
      "        } \u001b[90m->\u001b[0m \u001b[0m\u001b[90mnull\u001b[0m\u001b[0m\n",
      "      \u001b[31m-\u001b[0m \u001b[0m\u001b[1m\u001b[0mtags_all\u001b[0m\u001b[0m  = {\n",
      "          \u001b[31m-\u001b[0m \u001b[0m\"Name\" = \"cloud-reader-benchmark\"\n",
      "        } \u001b[90m->\u001b[0m \u001b[0m\u001b[90mnull\u001b[0m\u001b[0m\n",
      "    }\n",
      "\n",
      "\u001b[1m  # module.lambda_function.aws_iam_policy_attachment.logs[0]\u001b[0m will be \u001b[1m\u001b[31mdestroyed\u001b[0m\u001b[0m\n",
      "\u001b[0m  \u001b[31m-\u001b[0m\u001b[0m resource \"aws_iam_policy_attachment\" \"logs\" {\n",
      "      \u001b[31m-\u001b[0m \u001b[0m\u001b[1m\u001b[0mgroups\u001b[0m\u001b[0m     = [] \u001b[90m->\u001b[0m \u001b[0m\u001b[90mnull\u001b[0m\u001b[0m\n",
      "      \u001b[31m-\u001b[0m \u001b[0m\u001b[1m\u001b[0mid\u001b[0m\u001b[0m         = \"cloud-reader-benchmark-logs\" \u001b[90m->\u001b[0m \u001b[0m\u001b[90mnull\u001b[0m\u001b[0m\n",
      "      \u001b[31m-\u001b[0m \u001b[0m\u001b[1m\u001b[0mname\u001b[0m\u001b[0m       = \"cloud-reader-benchmark-logs\" \u001b[90m->\u001b[0m \u001b[0m\u001b[90mnull\u001b[0m\u001b[0m\n",
      "      \u001b[31m-\u001b[0m \u001b[0m\u001b[1m\u001b[0mpolicy_arn\u001b[0m\u001b[0m = \"arn:aws:iam::615900053518:policy/cloud-reader-benchmark-logs\" \u001b[90m->\u001b[0m \u001b[0m\u001b[90mnull\u001b[0m\u001b[0m\n",
      "      \u001b[31m-\u001b[0m \u001b[0m\u001b[1m\u001b[0mroles\u001b[0m\u001b[0m      = [\n",
      "          \u001b[31m-\u001b[0m \u001b[0m\"cloud-reader-benchmark\",\n",
      "        ] \u001b[90m->\u001b[0m \u001b[0m\u001b[90mnull\u001b[0m\u001b[0m\n",
      "      \u001b[31m-\u001b[0m \u001b[0m\u001b[1m\u001b[0musers\u001b[0m\u001b[0m      = [] \u001b[90m->\u001b[0m \u001b[0m\u001b[90mnull\u001b[0m\u001b[0m\n",
      "    }\n",
      "\n",
      "\u001b[1m  # module.lambda_function.aws_iam_role.lambda[0]\u001b[0m will be \u001b[1m\u001b[31mdestroyed\u001b[0m\u001b[0m\n",
      "\u001b[0m  \u001b[31m-\u001b[0m\u001b[0m resource \"aws_iam_role\" \"lambda\" {\n",
      "      \u001b[31m-\u001b[0m \u001b[0m\u001b[1m\u001b[0marn\u001b[0m\u001b[0m                   = \"arn:aws:iam::615900053518:role/cloud-reader-benchmark\" \u001b[90m->\u001b[0m \u001b[0m\u001b[90mnull\u001b[0m\u001b[0m\n",
      "      \u001b[31m-\u001b[0m \u001b[0m\u001b[1m\u001b[0massume_role_policy\u001b[0m\u001b[0m    = jsonencode(\n",
      "            {\n",
      "              \u001b[31m-\u001b[0m \u001b[0mStatement = [\n",
      "                  \u001b[31m-\u001b[0m \u001b[0m{\n",
      "                      \u001b[31m-\u001b[0m \u001b[0mAction    = \"sts:AssumeRole\"\n",
      "                      \u001b[31m-\u001b[0m \u001b[0mEffect    = \"Allow\"\n",
      "                      \u001b[31m-\u001b[0m \u001b[0mPrincipal = {\n",
      "                          \u001b[31m-\u001b[0m \u001b[0mService = \"lambda.amazonaws.com\"\n",
      "                        }\n",
      "                      \u001b[31m-\u001b[0m \u001b[0mSid       = \"\"\n",
      "                    },\n",
      "                ]\n",
      "              \u001b[31m-\u001b[0m \u001b[0mVersion   = \"2012-10-17\"\n",
      "            }\n",
      "        ) \u001b[90m->\u001b[0m \u001b[0m\u001b[90mnull\u001b[0m\u001b[0m\n",
      "      \u001b[31m-\u001b[0m \u001b[0m\u001b[1m\u001b[0mcreate_date\u001b[0m\u001b[0m           = \"2021-07-30T13:53:37Z\" \u001b[90m->\u001b[0m \u001b[0m\u001b[90mnull\u001b[0m\u001b[0m\n",
      "      \u001b[31m-\u001b[0m \u001b[0m\u001b[1m\u001b[0mforce_detach_policies\u001b[0m\u001b[0m = true \u001b[90m->\u001b[0m \u001b[0m\u001b[90mnull\u001b[0m\u001b[0m\n",
      "      \u001b[31m-\u001b[0m \u001b[0m\u001b[1m\u001b[0mid\u001b[0m\u001b[0m                    = \"cloud-reader-benchmark\" \u001b[90m->\u001b[0m \u001b[0m\u001b[90mnull\u001b[0m\u001b[0m\n",
      "      \u001b[31m-\u001b[0m \u001b[0m\u001b[1m\u001b[0mmanaged_policy_arns\u001b[0m\u001b[0m   = [\n",
      "          \u001b[31m-\u001b[0m \u001b[0m\"arn:aws:iam::615900053518:policy/cloud-reader-benchmark-logs\",\n",
      "        ] \u001b[90m->\u001b[0m \u001b[0m\u001b[90mnull\u001b[0m\u001b[0m\n",
      "      \u001b[31m-\u001b[0m \u001b[0m\u001b[1m\u001b[0mmax_session_duration\u001b[0m\u001b[0m  = 3600 \u001b[90m->\u001b[0m \u001b[0m\u001b[90mnull\u001b[0m\u001b[0m\n",
      "      \u001b[31m-\u001b[0m \u001b[0m\u001b[1m\u001b[0mname\u001b[0m\u001b[0m                  = \"cloud-reader-benchmark\" \u001b[90m->\u001b[0m \u001b[0m\u001b[90mnull\u001b[0m\u001b[0m\n",
      "      \u001b[31m-\u001b[0m \u001b[0m\u001b[1m\u001b[0mpath\u001b[0m\u001b[0m                  = \"/\" \u001b[90m->\u001b[0m \u001b[0m\u001b[90mnull\u001b[0m\u001b[0m\n",
      "      \u001b[31m-\u001b[0m \u001b[0m\u001b[1m\u001b[0mtags\u001b[0m\u001b[0m                  = {\n",
      "          \u001b[31m-\u001b[0m \u001b[0m\"Name\" = \"cloud-reader-benchmark\"\n",
      "        } \u001b[90m->\u001b[0m \u001b[0m\u001b[90mnull\u001b[0m\u001b[0m\n",
      "      \u001b[31m-\u001b[0m \u001b[0m\u001b[1m\u001b[0mtags_all\u001b[0m\u001b[0m              = {\n",
      "          \u001b[31m-\u001b[0m \u001b[0m\"Name\" = \"cloud-reader-benchmark\"\n",
      "        } \u001b[90m->\u001b[0m \u001b[0m\u001b[90mnull\u001b[0m\u001b[0m\n",
      "      \u001b[31m-\u001b[0m \u001b[0m\u001b[1m\u001b[0munique_id\u001b[0m\u001b[0m             = \"AROAY6ZUBAAHHBLTT5WK4\" \u001b[90m->\u001b[0m \u001b[0m\u001b[90mnull\u001b[0m\u001b[0m\n",
      "\n",
      "      \u001b[31m-\u001b[0m \u001b[0minline_policy {}\n",
      "    }\n",
      "\n",
      "\u001b[1m  # module.lambda_function.aws_lambda_function.this[0]\u001b[0m will be \u001b[1m\u001b[31mdestroyed\u001b[0m\u001b[0m\n",
      "\u001b[0m  \u001b[31m-\u001b[0m\u001b[0m resource \"aws_lambda_function\" \"this\" {\n",
      "      \u001b[31m-\u001b[0m \u001b[0m\u001b[1m\u001b[0marn\u001b[0m\u001b[0m                            = \"arn:aws:lambda:us-east-2:615900053518:function:cloud-reader-benchmark\" \u001b[90m->\u001b[0m \u001b[0m\u001b[90mnull\u001b[0m\u001b[0m\n",
      "      \u001b[31m-\u001b[0m \u001b[0m\u001b[1m\u001b[0mdescription\u001b[0m\u001b[0m                    = \"Lambda to run benchmarks for the Rust Cloud Reader library\" \u001b[90m->\u001b[0m \u001b[0m\u001b[90mnull\u001b[0m\u001b[0m\n",
      "      \u001b[31m-\u001b[0m \u001b[0m\u001b[1m\u001b[0mfilename\u001b[0m\u001b[0m                       = \"lambda.zip\" \u001b[90m->\u001b[0m \u001b[0m\u001b[90mnull\u001b[0m\u001b[0m\n",
      "      \u001b[31m-\u001b[0m \u001b[0m\u001b[1m\u001b[0mfunction_name\u001b[0m\u001b[0m                  = \"cloud-reader-benchmark\" \u001b[90m->\u001b[0m \u001b[0m\u001b[90mnull\u001b[0m\u001b[0m\n",
      "      \u001b[31m-\u001b[0m \u001b[0m\u001b[1m\u001b[0mhandler\u001b[0m\u001b[0m                        = \"N/A\" \u001b[90m->\u001b[0m \u001b[0m\u001b[90mnull\u001b[0m\u001b[0m\n",
      "      \u001b[31m-\u001b[0m \u001b[0m\u001b[1m\u001b[0mid\u001b[0m\u001b[0m                             = \"cloud-reader-benchmark\" \u001b[90m->\u001b[0m \u001b[0m\u001b[90mnull\u001b[0m\u001b[0m\n",
      "      \u001b[31m-\u001b[0m \u001b[0m\u001b[1m\u001b[0minvoke_arn\u001b[0m\u001b[0m                     = \"arn:aws:apigateway:us-east-2:lambda:path/2015-03-31/functions/arn:aws:lambda:us-east-2:615900053518:function:cloud-reader-benchmark/invocations\" \u001b[90m->\u001b[0m \u001b[0m\u001b[90mnull\u001b[0m\u001b[0m\n",
      "      \u001b[31m-\u001b[0m \u001b[0m\u001b[1m\u001b[0mlast_modified\u001b[0m\u001b[0m                  = \"2021-07-30T16:52:49.476+0000\" \u001b[90m->\u001b[0m \u001b[0m\u001b[90mnull\u001b[0m\u001b[0m\n",
      "      \u001b[31m-\u001b[0m \u001b[0m\u001b[1m\u001b[0mlayers\u001b[0m\u001b[0m                         = [] \u001b[90m->\u001b[0m \u001b[0m\u001b[90mnull\u001b[0m\u001b[0m\n",
      "      \u001b[31m-\u001b[0m \u001b[0m\u001b[1m\u001b[0mmemory_size\u001b[0m\u001b[0m                    = 3008 \u001b[90m->\u001b[0m \u001b[0m\u001b[90mnull\u001b[0m\u001b[0m\n",
      "      \u001b[31m-\u001b[0m \u001b[0m\u001b[1m\u001b[0mpackage_type\u001b[0m\u001b[0m                   = \"Zip\" \u001b[90m->\u001b[0m \u001b[0m\u001b[90mnull\u001b[0m\u001b[0m\n",
      "      \u001b[31m-\u001b[0m \u001b[0m\u001b[1m\u001b[0mpublish\u001b[0m\u001b[0m                        = false \u001b[90m->\u001b[0m \u001b[0m\u001b[90mnull\u001b[0m\u001b[0m\n",
      "      \u001b[31m-\u001b[0m \u001b[0m\u001b[1m\u001b[0mqualified_arn\u001b[0m\u001b[0m                  = \"arn:aws:lambda:us-east-2:615900053518:function:cloud-reader-benchmark:$LATEST\" \u001b[90m->\u001b[0m \u001b[0m\u001b[90mnull\u001b[0m\u001b[0m\n",
      "      \u001b[31m-\u001b[0m \u001b[0m\u001b[1m\u001b[0mreserved_concurrent_executions\u001b[0m\u001b[0m = -1 \u001b[90m->\u001b[0m \u001b[0m\u001b[90mnull\u001b[0m\u001b[0m\n",
      "      \u001b[31m-\u001b[0m \u001b[0m\u001b[1m\u001b[0mrole\u001b[0m\u001b[0m                           = \"arn:aws:iam::615900053518:role/cloud-reader-benchmark\" \u001b[90m->\u001b[0m \u001b[0m\u001b[90mnull\u001b[0m\u001b[0m\n",
      "      \u001b[31m-\u001b[0m \u001b[0m\u001b[1m\u001b[0mruntime\u001b[0m\u001b[0m                        = \"provided\" \u001b[90m->\u001b[0m \u001b[0m\u001b[90mnull\u001b[0m\u001b[0m\n",
      "      \u001b[31m-\u001b[0m \u001b[0m\u001b[1m\u001b[0msource_code_hash\u001b[0m\u001b[0m               = \"87qaGMaMVlt+K/2AOm7GFzi5sOMdLoDwlR3GnwCIwdM=\" \u001b[90m->\u001b[0m \u001b[0m\u001b[90mnull\u001b[0m\u001b[0m\n",
      "      \u001b[31m-\u001b[0m \u001b[0m\u001b[1m\u001b[0msource_code_size\u001b[0m\u001b[0m               = 4233363 \u001b[90m->\u001b[0m \u001b[0m\u001b[90mnull\u001b[0m\u001b[0m\n",
      "      \u001b[31m-\u001b[0m \u001b[0m\u001b[1m\u001b[0mtags\u001b[0m\u001b[0m                           = {\n",
      "          \u001b[31m-\u001b[0m \u001b[0m\"Name\" = \"cloud-reader-benchmark\"\n",
      "        } \u001b[90m->\u001b[0m \u001b[0m\u001b[90mnull\u001b[0m\u001b[0m\n",
      "      \u001b[31m-\u001b[0m \u001b[0m\u001b[1m\u001b[0mtags_all\u001b[0m\u001b[0m                       = {\n",
      "          \u001b[31m-\u001b[0m \u001b[0m\"Name\" = \"cloud-reader-benchmark\"\n",
      "        } \u001b[90m->\u001b[0m \u001b[0m\u001b[90mnull\u001b[0m\u001b[0m\n",
      "      \u001b[31m-\u001b[0m \u001b[0m\u001b[1m\u001b[0mtimeout\u001b[0m\u001b[0m                        = 60 \u001b[90m->\u001b[0m \u001b[0m\u001b[90mnull\u001b[0m\u001b[0m\n",
      "      \u001b[31m-\u001b[0m \u001b[0m\u001b[1m\u001b[0mversion\u001b[0m\u001b[0m                        = \"$LATEST\" \u001b[90m->\u001b[0m \u001b[0m\u001b[90mnull\u001b[0m\u001b[0m\n",
      "\n",
      "      \u001b[31m-\u001b[0m \u001b[0mtracing_config {\n",
      "          \u001b[31m-\u001b[0m \u001b[0m\u001b[1m\u001b[0mmode\u001b[0m\u001b[0m = \"PassThrough\" \u001b[90m->\u001b[0m \u001b[0m\u001b[90mnull\u001b[0m\u001b[0m\n",
      "        }\n",
      "    }\n",
      "\n",
      "\u001b[0m\u001b[1mPlan:\u001b[0m 0 to add, 0 to change, 5 to destroy.\n",
      "\u001b[0m\u001b[0m\n",
      "\u001b[1mChanges to Outputs:\u001b[0m\u001b[0m\n",
      "  \u001b[31m-\u001b[0m \u001b[0m\u001b[1m\u001b[0mlambda_arn\u001b[0m\u001b[0m = \"arn:aws:lambda:us-east-2:615900053518:function:cloud-reader-benchmark\" \u001b[90m->\u001b[0m \u001b[0m\u001b[90mnull\u001b[0m\u001b[0m\n",
      "\u001b[0m\u001b[1mmodule.lambda_function.aws_iam_policy_attachment.logs[0]: Destroying... [id=cloud-reader-benchmark-logs]\u001b[0m\u001b[0m\n",
      "\u001b[0m\u001b[1mmodule.lambda_function.aws_lambda_function.this[0]: Destroying... [id=cloud-reader-benchmark]\u001b[0m\u001b[0m\n",
      "\u001b[0m\u001b[1mmodule.lambda_function.aws_iam_policy_attachment.logs[0]: Destruction complete after 0s\u001b[0m\n",
      "\u001b[0m\u001b[1mmodule.lambda_function.aws_iam_policy.logs[0]: Destroying... [id=arn:aws:iam::615900053518:policy/cloud-reader-benchmark-logs]\u001b[0m\u001b[0m\n",
      "\u001b[0m\u001b[1mmodule.lambda_function.aws_lambda_function.this[0]: Destruction complete after 1s\u001b[0m\n",
      "\u001b[0m\u001b[1mmodule.lambda_function.aws_iam_role.lambda[0]: Destroying... [id=cloud-reader-benchmark]\u001b[0m\u001b[0m\n",
      "\u001b[0m\u001b[1mmodule.lambda_function.aws_iam_policy.logs[0]: Destruction complete after 1s\u001b[0m\n",
      "\u001b[0m\u001b[1mmodule.lambda_function.aws_cloudwatch_log_group.lambda[0]: Destroying... [id=/aws/lambda/cloud-reader-benchmark]\u001b[0m\u001b[0m\n",
      "\u001b[0m\u001b[1mmodule.lambda_function.aws_cloudwatch_log_group.lambda[0]: Destruction complete after 1s\u001b[0m\n",
      "\u001b[0m\u001b[1mmodule.lambda_function.aws_iam_role.lambda[0]: Destruction complete after 1s\u001b[0m\n",
      "\u001b[0m\u001b[1m\u001b[32m\n",
      "Destroy complete! Resources: 5 destroyed.\n",
      "\u001b[0m"
     ]
    }
   ],
   "source": [
    "%%bash -s \"$aws_profile\" \"$region_name\" \"$binary_name\"\n",
    "date\n",
    "docker run \\\n",
    "    --rm \\\n",
    "    -v $HOME/.aws/credentials:/creds:ro \\\n",
    "    -v cloud-reader-tf:/mnt/state_vol \\\n",
    "    cloudfuse/cloud-reader-terraform destroy -var=\"profile=$1\" -var=\"region_name=$2\" -var=\"binary_name=$3\" -auto-approve"
   ]
  },
  {
   "cell_type": "code",
   "execution_count": 7,
   "metadata": {},
   "outputs": [
    {
     "name": "stdout",
     "output_type": "stream",
     "text": [
      "Fri Jul 30 22:22:53 CEST 2021\n",
      "cloud-reader-tf\n"
     ]
    }
   ],
   "source": [
    "%%bash\n",
    "date\n",
    "docker volume rm cloud-reader-tf"
   ]
  },
  {
   "cell_type": "code",
   "execution_count": 8,
   "metadata": {},
   "outputs": [
    {
     "name": "stdout",
     "output_type": "stream",
     "text": [
      "Fri Jul 30 22:22:54 CEST 2021\n",
      "Untagged: cloudfuse/cloud-reader-terraform:latest\n",
      "Deleted: sha256:4296d4a281223222b34a0112512c7d9cad61669e1365a93336f9f87eef172588\n"
     ]
    }
   ],
   "source": [
    "%%bash\n",
    "date\n",
    "docker image rm cloudfuse/cloud-reader-terraform"
   ]
  }
 ],
 "metadata": {
  "kernelspec": {
   "display_name": "Python 3",
   "language": "python",
   "name": "python3"
  },
  "language_info": {
   "codemirror_mode": {
    "name": "ipython",
    "version": 3
   },
   "file_extension": ".py",
   "mimetype": "text/x-python",
   "name": "python",
   "nbconvert_exporter": "python",
   "pygments_lexer": "ipython3",
   "version": "3.6.9"
  }
 },
 "nbformat": 4,
 "nbformat_minor": 4
}
