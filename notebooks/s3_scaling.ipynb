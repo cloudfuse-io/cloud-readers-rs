{
 "cells": [
  {
   "cell_type": "markdown",
   "metadata": {},
   "source": [
    "# Explore how S3 scales\n",
    "\n",
    "The objective of this notebook is to check how AWS S3 behaves when the same object chunk is downloaded from many AWS Lambdas in parallel.\n",
    "\n",
    "The data used here can be generated thanks to the `data_generation` notebook."
   ]
  },
  {
   "cell_type": "code",
   "execution_count": 4,
   "metadata": {},
   "outputs": [],
   "source": [
    "import os\n",
    "\n",
    "region_name=\"us-east-2\"\n",
    "binary_name=\"lambda\"\n",
    "aws_profile=os.environ[\"AWS_PROFILE\"] # Specify the profile you want to use from your .aws/credentials file with the AWS_PROFILE env variable\n",
    "\n",
    "MEGA = 1024*1024"
   ]
  },
  {
   "cell_type": "code",
   "execution_count": 7,
   "metadata": {},
   "outputs": [
    {
     "name": "stdout",
     "output_type": "stream",
     "text": [
      "lambda_name: arn:aws:lambda:us-east-2:615900053518:function:cloud-reader-benchmark\n"
     ]
    }
   ],
   "source": [
    "lambda_name = !docker run \\\n",
    "    --rm \\\n",
    "    -v $HOME/.aws/credentials:/creds:ro \\\n",
    "    -v cloud-reader-tf:/mnt/state_vol \\\n",
    "    cloudfuse/cloud-reader-terraform output lambda_arn\n",
    "lambda_name = lambda_name[0][1:len(lambda_name[0])-1]\n",
    "print('lambda_name:', lambda_name)"
   ]
  },
  {
   "cell_type": "code",
   "execution_count": 8,
   "metadata": {},
   "outputs": [],
   "source": [
    "from joblib import Parallel, delayed\n",
    "import boto3\n",
    "import json\n",
    "import base64\n",
    "import pandas as pd\n",
    "\n",
    "def q90(x):\n",
    "    return x.quantile(0.9)\n",
    "def q99(x):\n",
    "    return x.quantile(0.99)\n",
    "\n",
    "def invoke_lambda(index):\n",
    "    session = boto3.Session(profile_name=aws_profile)\n",
    "    client = session.client('lambda', region_name = region_name)\n",
    "    inputParams = {\n",
    "        \"region\": region_name,\n",
    "        \"bucket\": \"cloudfuse-taxi-data\",\n",
    "        \"key\": f\"synthetic/pattern-1gb/file{index:03}\",\n",
    "        \"size\": 1024*1024*1024,\n",
    "        \"ranges\": [{\"start\": 0, \"length\": 500*MEGA}],\n",
    "        \"max_parallel\": 16,\n",
    "        \"initial_permits\": 1,\n",
    "        \"release_rate\": 2,\n",
    "        \n",
    "    }\n",
    "    response = client.invoke(\n",
    "        FunctionName = lambda_name,\n",
    "        InvocationType = 'RequestResponse',\n",
    "        Payload = json.dumps(inputParams),\n",
    "        LogType='None'\n",
    "    )\n",
    "    return json.load(response['Payload'])\n",
    "\n",
    "def download_multiple_files(parallelism):\n",
    "    return  Parallel(n_jobs=parallelism)(delayed(invoke_lambda)(i) for i in range(parallelism))\n",
    "\n",
    "def download_single_files(parallelism):\n",
    "    return  Parallel(n_jobs=parallelism)(delayed(invoke_lambda)(0) for i in range(parallelism))\n",
    "\n",
    "def show_bench(results):\n",
    "    downloads = []\n",
    "    for res in results:\n",
    "        for dl in res['cache_stats']:\n",
    "            downloads.append({\n",
    "                \"dl_duration\": dl['dl_duration'],\n",
    "                \"first_read\": res['range_durations'][0],\n",
    "                \"last_read\": res['range_durations'][-1],\n",
    "            })\n",
    "\n",
    "    df = pd.DataFrame(downloads)\n",
    "\n",
    "    return df.agg({\n",
    "        'dl_duration': 'mean', \n",
    "        'first_read': ['mean', q90, q99], \n",
    "        'last_read': ['mean', q90, q99]\n",
    "    })\n"
   ]
  },
  {
   "cell_type": "code",
   "execution_count": 9,
   "metadata": {},
   "outputs": [
    {
     "name": "stdout",
     "output_type": "stream",
     "text": [
      "Mon Aug  9 12:09:13 CEST 2021\n"
     ]
    },
    {
     "data": {
      "text/html": [
       "<div>\n",
       "<style scoped>\n",
       "    .dataframe tbody tr th:only-of-type {\n",
       "        vertical-align: middle;\n",
       "    }\n",
       "\n",
       "    .dataframe tbody tr th {\n",
       "        vertical-align: top;\n",
       "    }\n",
       "\n",
       "    .dataframe thead th {\n",
       "        text-align: right;\n",
       "    }\n",
       "</style>\n",
       "<table border=\"1\" class=\"dataframe\">\n",
       "  <thead>\n",
       "    <tr style=\"text-align: right;\">\n",
       "      <th></th>\n",
       "      <th>dl_duration</th>\n",
       "      <th>first_read</th>\n",
       "      <th>last_read</th>\n",
       "    </tr>\n",
       "  </thead>\n",
       "  <tbody>\n",
       "    <tr>\n",
       "      <th>mean</th>\n",
       "      <td>6095.63</td>\n",
       "      <td>6095.74</td>\n",
       "      <td>6095.74</td>\n",
       "    </tr>\n",
       "    <tr>\n",
       "      <th>q90</th>\n",
       "      <td>NaN</td>\n",
       "      <td>6559.10</td>\n",
       "      <td>6559.10</td>\n",
       "    </tr>\n",
       "    <tr>\n",
       "      <th>q99</th>\n",
       "      <td>NaN</td>\n",
       "      <td>6958.53</td>\n",
       "      <td>6958.53</td>\n",
       "    </tr>\n",
       "  </tbody>\n",
       "</table>\n",
       "</div>"
      ],
      "text/plain": [
       "      dl_duration  first_read  last_read\n",
       "mean      6095.63     6095.74    6095.74\n",
       "q90           NaN     6559.10    6559.10\n",
       "q99           NaN     6958.53    6958.53"
      ]
     },
     "execution_count": 9,
     "metadata": {},
     "output_type": "execute_result"
    }
   ],
   "source": [
    "!date\n",
    "res_multiple_files = download_multiple_files(100)\n",
    "show_bench(res_multiple_files)"
   ]
  },
  {
   "cell_type": "code",
   "execution_count": 10,
   "metadata": {},
   "outputs": [
    {
     "name": "stdout",
     "output_type": "stream",
     "text": [
      "Mon Aug  9 12:10:01 CEST 2021\n"
     ]
    },
    {
     "data": {
      "text/html": [
       "<div>\n",
       "<style scoped>\n",
       "    .dataframe tbody tr th:only-of-type {\n",
       "        vertical-align: middle;\n",
       "    }\n",
       "\n",
       "    .dataframe tbody tr th {\n",
       "        vertical-align: top;\n",
       "    }\n",
       "\n",
       "    .dataframe thead th {\n",
       "        text-align: right;\n",
       "    }\n",
       "</style>\n",
       "<table border=\"1\" class=\"dataframe\">\n",
       "  <thead>\n",
       "    <tr style=\"text-align: right;\">\n",
       "      <th></th>\n",
       "      <th>dl_duration</th>\n",
       "      <th>first_read</th>\n",
       "      <th>last_read</th>\n",
       "    </tr>\n",
       "  </thead>\n",
       "  <tbody>\n",
       "    <tr>\n",
       "      <th>mean</th>\n",
       "      <td>5865.04</td>\n",
       "      <td>5865.12</td>\n",
       "      <td>5865.12</td>\n",
       "    </tr>\n",
       "    <tr>\n",
       "      <th>q90</th>\n",
       "      <td>NaN</td>\n",
       "      <td>6602.30</td>\n",
       "      <td>6602.30</td>\n",
       "    </tr>\n",
       "    <tr>\n",
       "      <th>q99</th>\n",
       "      <td>NaN</td>\n",
       "      <td>7034.49</td>\n",
       "      <td>7034.49</td>\n",
       "    </tr>\n",
       "  </tbody>\n",
       "</table>\n",
       "</div>"
      ],
      "text/plain": [
       "      dl_duration  first_read  last_read\n",
       "mean      5865.04     5865.12    5865.12\n",
       "q90           NaN     6602.30    6602.30\n",
       "q99           NaN     7034.49    7034.49"
      ]
     },
     "execution_count": 10,
     "metadata": {},
     "output_type": "execute_result"
    }
   ],
   "source": [
    "!date\n",
    "res_single_files = download_single_files(100)\n",
    "show_bench(res_single_files)"
   ]
  },
  {
   "cell_type": "markdown",
   "metadata": {},
   "source": [
    "Performances are very close whether we download the same file or different files from our ~100 Lambda containers."
   ]
  }
 ],
 "metadata": {
  "kernelspec": {
   "display_name": "Python 3",
   "language": "python",
   "name": "python3"
  },
  "language_info": {
   "codemirror_mode": {
    "name": "ipython",
    "version": 3
   },
   "file_extension": ".py",
   "mimetype": "text/x-python",
   "name": "python",
   "nbconvert_exporter": "python",
   "pygments_lexer": "ipython3",
   "version": "3.6.9"
  }
 },
 "nbformat": 4,
 "nbformat_minor": 4
}
