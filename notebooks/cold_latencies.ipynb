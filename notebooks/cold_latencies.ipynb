{
 "cells": [
  {
   "cell_type": "markdown",
   "metadata": {},
   "source": [
    "# Cold start download latencies\n",
    "\n",
    "This notebook focuses on the latencies of **a single download on a DownloadCache**. We test the differences between downloads:\n",
    "- in a completely fresh Lambda container (cold start)\n",
    "- subsequent invocations on the already initialized container"
   ]
  },
  {
   "cell_type": "code",
   "execution_count": 1,
   "metadata": {},
   "outputs": [],
   "source": [
    "import os\n",
    "\n",
    "region_name=\"us-east-2\"\n",
    "binary_name=\"lambda\"\n",
    "aws_profile=os.environ[\"AWS_PROFILE\"] # Specify the profile you want to use from your .aws/credentials file with the AWS_PROFILE env variable\n",
    "\n",
    "MEGA = 1024*1024"
   ]
  },
  {
   "cell_type": "code",
   "execution_count": 2,
   "metadata": {},
   "outputs": [
    {
     "name": "stdout",
     "output_type": "stream",
     "text": [
      "lambda_name: arn:aws:lambda:us-east-2:615900053518:function:cloud-reader-benchmark\n"
     ]
    }
   ],
   "source": [
    "lambda_name = !docker run \\\n",
    "    --rm \\\n",
    "    -v $HOME/.aws/credentials:/creds:ro \\\n",
    "    -v cloud-reader-tf:/mnt/state_vol \\\n",
    "    cloudfuse/cloud-reader-terraform output lambda_arn\n",
    "lambda_name = lambda_name[0][1:len(lambda_name[0])-1]\n",
    "print('lambda_name:', lambda_name)"
   ]
  },
  {
   "cell_type": "code",
   "execution_count": 3,
   "metadata": {},
   "outputs": [],
   "source": [
    "import boto3\n",
    "import json\n",
    "import base64\n",
    "from datetime import datetime\n",
    "import time\n",
    "import pandas as pd\n",
    "\n",
    "session = boto3.Session(profile_name=aws_profile)\n",
    "client = session.client('lambda', region_name = region_name)\n",
    "\n",
    "# Changing the description of the Lambda trashes the old containers\n",
    "def reset_lambda():\n",
    "    response = client.update_function_configuration(\n",
    "        FunctionName = lambda_name,\n",
    "        Description = datetime.utcnow().strftime('%Y-%m-%d %H:%M:%S.%f')\n",
    "    )\n",
    "    # print('Lambda function update status:', response['LastUpdateStatus'])\n",
    "\n",
    "def bench_setup_1(max_parallel, ranges):\n",
    "    inputParams = {\n",
    "        \"region\": region_name,\n",
    "        \"bucket\": \"cloudfuse-taxi-data\",\n",
    "        \"key\": \"tpch/tbl-s1/lineitem.tbl\",\n",
    "        \"size\": 759863287,\n",
    "        \"ranges\": ranges,\n",
    "        \"max_parallel\": max_parallel,\n",
    "    }\n",
    "    response = client.invoke(\n",
    "        FunctionName = lambda_name,\n",
    "        InvocationType = 'RequestResponse',\n",
    "        Payload = json.dumps(inputParams),\n",
    "        LogType='Tail'\n",
    "    )\n",
    "    # print(base64.b64decode(response['LogResult']).decode(\"utf-8\") )\n",
    "    return json.load(response['Payload'])"
   ]
  },
  {
   "cell_type": "markdown",
   "metadata": {},
   "source": [
    "### Show that reset works"
   ]
  },
  {
   "cell_type": "code",
   "execution_count": 6,
   "metadata": {},
   "outputs": [
    {
     "name": "stdout",
     "output_type": "stream",
     "text": [
      "{'downloaded_bytes': [{'dl_duration': 239, 'size': 10485760, 'wait_duration': 0}], 'init_duration': 18, 'range_durations': [239], 'run_count': 1}\n",
      "\n",
      "{'downloaded_bytes': [{'dl_duration': 122, 'size': 10485760, 'wait_duration': 0}], 'init_duration': 1, 'range_durations': [122], 'run_count': 2}\n",
      "\n",
      "\n",
      "{'downloaded_bytes': [{'dl_duration': 114, 'size': 10485760, 'wait_duration': 0}], 'init_duration': 17, 'range_durations': [114], 'run_count': 1}\n"
     ]
    }
   ],
   "source": [
    "print(bench_setup_1(32, [{\"start\": 0, \"length\": 10*MEGA}]))\n",
    "print()\n",
    "print(bench_setup_1(32, [{\"start\": 0, \"length\": 10*MEGA}]))\n",
    "print()\n",
    "reset_lambda()\n",
    "print()\n",
    "print(bench_setup_1(32, [{\"start\": 0, \"length\": 10*MEGA}]))"
   ]
  },
  {
   "cell_type": "markdown",
   "metadata": {},
   "source": [
    "---------------------------------------------------\n",
    "\n",
    "Note above how the `run_count` is reseted to 1 when calling `reset_lambda()`\n",
    "\n",
    "**Example log from the lambda:**\n",
    "```\n",
    "START RequestId: 63589778-b1e8-434a-94d1-bf7398616f40 Version: $LATEST\n",
    "END RequestId: 63589778-b1e8-434a-94d1-bf7398616f40\n",
    "REPORT RequestId: 63589778-b1e8-434a-94d1-bf7398616f40\tDuration: 146.11 ms\tBilled Duration: 176 ms\tMemory Size: 3008 MB\tMax Memory Used: 41 MB\tInit Duration: 29.86 ms\t\n",
    "```\n",
    "\n",
    "The overall init duration is:\n",
    "- ~30ms to create the new container\n",
    "- ~20ms to crate the cache and submit the downloads\n",
    "\n",
    "These durations are mostly neglectable compared to other S3 related latencies.\n",
    "Note that even though we re-create the cache completely between invocations, ulterior creations are much faster.\n",
    "\n",
    "We can see big differences between download latency of different runs. We try to caracterize those below."
   ]
  },
  {
   "cell_type": "markdown",
   "metadata": {},
   "source": [
    "## Run multiple containers with 5 consecutive invocations each"
   ]
  },
  {
   "cell_type": "markdown",
   "metadata": {},
   "source": [
    "### 10 MB chunks"
   ]
  },
  {
   "cell_type": "code",
   "execution_count": 96,
   "metadata": {},
   "outputs": [
    {
     "data": {
      "text/plain": [
       "<AxesSubplot:title={'center':'range_durations'}, xlabel='run_count'>"
      ]
     },
     "execution_count": 96,
     "metadata": {},
     "output_type": "execute_result"
    },
    {
     "data": {
      "image/png": "[encoded data removed]",
      "text/plain": [
       "<Figure size 720x432 with 1 Axes>"
      ]
     },
     "metadata": {
      "needs_background": "light"
     },
     "output_type": "display_data"
    }
   ],
   "source": [
    "measurements = []\n",
    "reset_lambda()\n",
    "for i in range(50):\n",
    "    reset_lambda()\n",
    "    time.sleep(5) # sleep a bit for the change to propagate\n",
    "    for j in range(5):\n",
    "        measurements.append(bench_setup_1(32, [{\"start\": 0, \"length\": 10*MEGA}]))\n",
    "\n",
    "df = pd.DataFrame.from_records(measurements)      \n",
    "df.explode('range_durations').boxplot(column='range_durations', by='run_count', figsize = (10, 6))"
   ]
  },
  {
   "cell_type": "markdown",
   "metadata": {},
   "source": [
    "### 100 MB chunks"
   ]
  },
  {
   "cell_type": "code",
   "execution_count": 97,
   "metadata": {},
   "outputs": [
    {
     "data": {
      "text/plain": [
       "<AxesSubplot:title={'center':'range_durations'}, xlabel='run_count'>"
      ]
     },
     "execution_count": 97,
     "metadata": {},
     "output_type": "execute_result"
    },
    {
     "data": {
      "image/png": "[encoded data removed]",
      "text/plain": [
       "<Figure size 720x432 with 1 Axes>"
      ]
     },
     "metadata": {
      "needs_background": "light"
     },
     "output_type": "display_data"
    }
   ],
   "source": [
    "measurements = []\n",
    "reset_lambda()\n",
    "for i in range(50):\n",
    "    reset_lambda()\n",
    "    time.sleep(5) # sleep a bit for the change to propagate\n",
    "    for j in range(5):\n",
    "        measurements.append(bench_setup_1(32, [{\"start\": 0, \"length\": 100*MEGA}]))\n",
    "\n",
    "df = pd.DataFrame.from_records(measurements)      \n",
    "df.explode('range_durations').boxplot(column='range_durations', by='run_count', figsize = (10, 6))"
   ]
  },
  {
   "cell_type": "markdown",
   "metadata": {},
   "source": [
    "## Observations\n",
    "\n",
    "This boxplots show the distributions of the download durations accross invocations of the Lambda function.\n",
    "\n",
    "- Reusing a container that already connected to S3 does not significantly improve the connection speed -> no unexpected DNS or other first time resolution at the container level.\n",
    "- There are some outliers with some pretty large latencies"
   ]
  }
 ],
 "metadata": {
  "kernelspec": {
   "display_name": "Python 3",
   "language": "python",
   "name": "python3"
  },
  "language_info": {
   "codemirror_mode": {
    "name": "ipython",
    "version": 3
   },
   "file_extension": ".py",
   "mimetype": "text/x-python",
   "name": "python",
   "nbconvert_exporter": "python",
   "pygments_lexer": "ipython3",
   "version": "3.6.9"
  }
 },
 "nbformat": 4,
 "nbformat_minor": 4
}
