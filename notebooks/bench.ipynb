{
 "cells": [
  {
   "cell_type": "code",
   "execution_count": 1,
   "metadata": {},
   "outputs": [],
   "source": [
    "# specify the aws profile and region you want to use to deploy the stack\n",
    "aws_profile=\"bbdev\"\n",
    "region_name=\"us-east-2\"\n",
    "\n",
    "MEGA = 1024*1024"
   ]
  },
  {
   "cell_type": "code",
   "execution_count": 2,
   "metadata": {},
   "outputs": [
    {
     "name": "stdout",
     "output_type": "stream",
     "text": [
      "lambda_name: arn:aws:lambda:us-east-2:615900053518:function:cloud-reader-benchmark\n"
     ]
    }
   ],
   "source": [
    "lambda_name = !docker run \\\n",
    "    --rm \\\n",
    "    -v $HOME/.aws/credentials:/creds:ro \\\n",
    "    -v cloud-reader-tf:/infra/ \\\n",
    "    cloudfuse/cloud-reader-terraform output lambda_arn\n",
    "lambda_name = lambda_name[0][1:len(lambda_name[0])-1]\n",
    "print('lambda_name:', lambda_name)"
   ]
  },
  {
   "cell_type": "code",
   "execution_count": 21,
   "metadata": {},
   "outputs": [],
   "source": [
    "import boto3\n",
    "import json\n",
    "import base64\n",
    "\n",
    "session = boto3.Session(profile_name=aws_profile)\n",
    "client = session.client('lambda', region_name = region_name)"
   ]
  },
  {
   "cell_type": "code",
   "execution_count": 22,
   "metadata": {},
   "outputs": [],
   "source": [
    "def bench_setup_1(ranges):\n",
    "    inputParams = {\n",
    "        \"region\": region_name,\n",
    "        \"bucket\": \"cloudfuse-taxi-data\",\n",
    "        \"key\": \"tpch/tbl-s1/lineitem.tbl\",\n",
    "        \"size\": 759863287,\n",
    "        \"ranges\": ranges\n",
    "    }\n",
    "    response = client.invoke(\n",
    "        FunctionName = lambda_name,\n",
    "        InvocationType = 'RequestResponse',\n",
    "        Payload = json.dumps(inputParams),\n",
    "        LogType='Tail'\n",
    "    )\n",
    "    print(base64.b64decode(response['LogResult']).decode(\"utf-8\") )\n",
    "    print(json.load(response['Payload']))\n"
   ]
  },
  {
   "cell_type": "code",
   "execution_count": 23,
   "metadata": {},
   "outputs": [
    {
     "name": "stdout",
     "output_type": "stream",
     "text": [
      "START RequestId: 72649036-e031-40aa-9acd-84909753a314 Version: $LATEST\n",
      "END RequestId: 72649036-e031-40aa-9acd-84909753a314\n",
      "REPORT RequestId: 72649036-e031-40aa-9acd-84909753a314\tDuration: 1154.73 ms\tBilled Duration: 1188 ms\tMemory Size: 3008 MB\tMax Memory Used: 132 MB\tInit Duration: 32.32 ms\t\n",
      "\n",
      "{'init_duration': 19, 'range_durations': [1130]}\n"
     ]
    }
   ],
   "source": [
    "bench_setup_1([{\"start\": 0, \"length\": 100*MEGA}])"
   ]
  },
  {
   "cell_type": "code",
   "execution_count": 24,
   "metadata": {},
   "outputs": [
    {
     "name": "stdout",
     "output_type": "stream",
     "text": [
      "START RequestId: a3f43eed-35bd-4e1e-b448-cff4bf383c8d Version: $LATEST\n",
      "END RequestId: a3f43eed-35bd-4e1e-b448-cff4bf383c8d\n",
      "REPORT RequestId: a3f43eed-35bd-4e1e-b448-cff4bf383c8d\tDuration: 1053.79 ms\tBilled Duration: 1054 ms\tMemory Size: 3008 MB\tMax Memory Used: 232 MB\t\n",
      "\n",
      "{'init_duration': 0, 'range_durations': [1052]}\n"
     ]
    }
   ],
   "source": [
    "bench_setup_1([{\"start\": 0, \"length\": 100*MEGA}])"
   ]
  },
  {
   "cell_type": "code",
   "execution_count": 25,
   "metadata": {},
   "outputs": [
    {
     "name": "stdout",
     "output_type": "stream",
     "text": [
      "START RequestId: 02d89d2c-1d8d-48f6-966e-02c776606906 Version: $LATEST\n",
      "END RequestId: 02d89d2c-1d8d-48f6-966e-02c776606906\n",
      "REPORT RequestId: 02d89d2c-1d8d-48f6-966e-02c776606906\tDuration: 1062.73 ms\tBilled Duration: 1063 ms\tMemory Size: 3008 MB\tMax Memory Used: 333 MB\t\n",
      "\n",
      "{'init_duration': 0, 'range_durations': [1061]}\n"
     ]
    }
   ],
   "source": [
    "bench_setup_1([{\"start\": 0, \"length\": 100*MEGA}])"
   ]
  },
  {
   "cell_type": "code",
   "execution_count": 28,
   "metadata": {},
   "outputs": [
    {
     "name": "stdout",
     "output_type": "stream",
     "text": [
      "START RequestId: e6e65dee-8668-4cd1-873e-4585939ea0fd Version: $LATEST\n",
      "END RequestId: e6e65dee-8668-4cd1-873e-4585939ea0fd\n",
      "REPORT RequestId: e6e65dee-8668-4cd1-873e-4585939ea0fd\tDuration: 2281.23 ms\tBilled Duration: 2282 ms\tMemory Size: 3008 MB\tMax Memory Used: 1436 MB\t\n",
      "\n",
      "{'init_duration': 0, 'range_durations': [2280, 2280, 2280]}\n"
     ]
    }
   ],
   "source": [
    "bench_setup_1([\n",
    "    {\"start\": 0, \"length\": 100*MEGA},\n",
    "    {\"start\": 100*MEGA, \"length\": 100*MEGA},\n",
    "    {\"start\": 200*MEGA, \"length\": 100*MEGA},\n",
    "])"
   ]
  },
  {
   "cell_type": "code",
   "execution_count": 27,
   "metadata": {},
   "outputs": [
    {
     "name": "stdout",
     "output_type": "stream",
     "text": [
      "START RequestId: b41c1911-520f-4d33-9b90-6cceb83124af Version: $LATEST\n",
      "END RequestId: b41c1911-520f-4d33-9b90-6cceb83124af\n",
      "REPORT RequestId: b41c1911-520f-4d33-9b90-6cceb83124af\tDuration: 6289.34 ms\tBilled Duration: 6290 ms\tMemory Size: 3008 MB\tMax Memory Used: 1137 MB\t\n",
      "\n",
      "{'init_duration': 0, 'range_durations': [3498, 3498, 6288, 6288, 6288, 6288]}\n"
     ]
    }
   ],
   "source": [
    "bench_setup_1([\n",
    "    {\"start\": 0, \"length\": 100*MEGA},\n",
    "    {\"start\": 100*MEGA, \"length\": 100*MEGA},\n",
    "    {\"start\": 200*MEGA, \"length\": 100*MEGA},\n",
    "    {\"start\": 300*MEGA, \"length\": 100*MEGA},\n",
    "    {\"start\": 400*MEGA, \"length\": 100*MEGA},\n",
    "    {\"start\": 500*MEGA, \"length\": 100*MEGA},\n",
    "])"
   ]
  }
 ],
 "metadata": {
  "kernelspec": {
   "display_name": "Python 3",
   "language": "python",
   "name": "python3"
  },
  "language_info": {
   "codemirror_mode": {
    "name": "ipython",
    "version": 3
   },
   "file_extension": ".py",
   "mimetype": "text/x-python",
   "name": "python",
   "nbconvert_exporter": "python",
   "pygments_lexer": "ipython3",
   "version": "3.6.9"
  }
 },
 "nbformat": 4,
 "nbformat_minor": 4
}
