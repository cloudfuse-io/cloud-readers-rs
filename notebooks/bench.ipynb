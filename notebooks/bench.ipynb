{
 "cells": [
  {
   "cell_type": "markdown",
   "metadata": {},
   "source": [
    "# us-east-2"
   ]
  },
  {
   "cell_type": "code",
   "execution_count": 18,
   "metadata": {},
   "outputs": [],
   "source": [
    "# specify the aws profile and region you want to use to deploy the stack\n",
    "aws_profile=\"bbdev\"\n",
    "region_name=\"us-east-2\"\n",
    "\n",
    "MEGA = 1024*1024"
   ]
  },
  {
   "cell_type": "code",
   "execution_count": 19,
   "metadata": {},
   "outputs": [
    {
     "name": "stdout",
     "output_type": "stream",
     "text": [
      "lambda_name: arn:aws:lambda:us-east-2:615900053518:function:cloud-reader-benchmark\n"
     ]
    }
   ],
   "source": [
    "lambda_name = !docker run \\\n",
    "    --rm \\\n",
    "    -v $HOME/.aws/credentials:/creds:ro \\\n",
    "    -v cloud-reader-tf:/mnt/state_vol \\\n",
    "    cloudfuse/cloud-reader-terraform output lambda_arn\n",
    "lambda_name = lambda_name[0][1:len(lambda_name[0])-1]\n",
    "print('lambda_name:', lambda_name)"
   ]
  },
  {
   "cell_type": "code",
   "execution_count": 21,
   "metadata": {},
   "outputs": [],
   "source": [
    "import boto3\n",
    "import json\n",
    "import base64\n",
    "\n",
    "session = boto3.Session(profile_name=aws_profile)\n",
    "client = session.client('lambda', region_name = region_name)"
   ]
  },
  {
   "cell_type": "code",
   "execution_count": 31,
   "metadata": {},
   "outputs": [],
   "source": [
    "def bench_setup_1(max_parallel, ranges):\n",
    "    inputParams = {\n",
    "        \"region\": region_name,\n",
    "        \"bucket\": \"cloudfuse-taxi-data\",\n",
    "        \"key\": \"tpch/tbl-s1/lineitem.tbl\",\n",
    "        \"size\": 759863287,\n",
    "        \"ranges\": ranges,\n",
    "        \"max_parallel\": max_parallel,\n",
    "    }\n",
    "    response = client.invoke(\n",
    "        FunctionName = lambda_name,\n",
    "        InvocationType = 'RequestResponse',\n",
    "        Payload = json.dumps(inputParams),\n",
    "        LogType='Tail'\n",
    "    )\n",
    "    print(base64.b64decode(response['LogResult']).decode(\"utf-8\") )\n",
    "    print(json.load(response['Payload']))\n"
   ]
  },
  {
   "cell_type": "markdown",
   "metadata": {},
   "source": [
    "### 100MB chunks"
   ]
  },
  {
   "cell_type": "code",
   "execution_count": 32,
   "metadata": {},
   "outputs": [
    {
     "name": "stdout",
     "output_type": "stream",
     "text": [
      "START RequestId: c2de5630-3de9-4b7e-838b-41ed68a9e933 Version: $LATEST\n",
      "END RequestId: c2de5630-3de9-4b7e-838b-41ed68a9e933\n",
      "REPORT RequestId: c2de5630-3de9-4b7e-838b-41ed68a9e933\tDuration: 1285.74 ms\tBilled Duration: 1321 ms\tMemory Size: 3008 MB\tMax Memory Used: 132 MB\tInit Duration: 34.26 ms\t\n",
      "\n",
      "{'init_duration': 18, 'range_durations': [1262]}\n"
     ]
    }
   ],
   "source": [
    "bench_setup_1(32, [{\"start\": 0, \"length\": 100*MEGA}])"
   ]
  },
  {
   "cell_type": "code",
   "execution_count": 33,
   "metadata": {},
   "outputs": [
    {
     "name": "stdout",
     "output_type": "stream",
     "text": [
      "START RequestId: 323d3c03-1208-465b-9aa6-e98999b4f5ac Version: $LATEST\n",
      "END RequestId: 323d3c03-1208-465b-9aa6-e98999b4f5ac\n",
      "REPORT RequestId: 323d3c03-1208-465b-9aa6-e98999b4f5ac\tDuration: 1116.33 ms\tBilled Duration: 1117 ms\tMemory Size: 3008 MB\tMax Memory Used: 232 MB\t\n",
      "\n",
      "{'init_duration': 0, 'range_durations': [1115]}\n"
     ]
    }
   ],
   "source": [
    "bench_setup_1(32, [{\"start\": 0, \"length\": 100*MEGA}])"
   ]
  },
  {
   "cell_type": "markdown",
   "metadata": {},
   "source": [
    "### 10MB chunks"
   ]
  },
  {
   "cell_type": "code",
   "execution_count": 34,
   "metadata": {},
   "outputs": [
    {
     "name": "stdout",
     "output_type": "stream",
     "text": [
      "START RequestId: 280fc413-e624-4c02-aded-4912dd0d60bb Version: $LATEST\n",
      "END RequestId: 280fc413-e624-4c02-aded-4912dd0d60bb\n",
      "REPORT RequestId: 280fc413-e624-4c02-aded-4912dd0d60bb\tDuration: 112.30 ms\tBilled Duration: 113 ms\tMemory Size: 3008 MB\tMax Memory Used: 242 MB\t\n",
      "\n",
      "{'init_duration': 0, 'range_durations': [111]}\n"
     ]
    }
   ],
   "source": [
    "bench_setup_1(32, [{\"start\": 0, \"length\": 10*MEGA}])"
   ]
  },
  {
   "cell_type": "code",
   "execution_count": 35,
   "metadata": {},
   "outputs": [
    {
     "name": "stdout",
     "output_type": "stream",
     "text": [
      "START RequestId: c6b360cf-4f1e-4a67-b0db-39ddd8b67a29 Version: $LATEST\n",
      "END RequestId: c6b360cf-4f1e-4a67-b0db-39ddd8b67a29\n",
      "REPORT RequestId: c6b360cf-4f1e-4a67-b0db-39ddd8b67a29\tDuration: 108.39 ms\tBilled Duration: 109 ms\tMemory Size: 3008 MB\tMax Memory Used: 252 MB\t\n",
      "\n",
      "{'init_duration': 0, 'range_durations': [107]}\n"
     ]
    }
   ],
   "source": [
    "bench_setup_1(32, [{\"start\": 0, \"length\": 10*MEGA}])"
   ]
  },
  {
   "cell_type": "code",
   "execution_count": 86,
   "metadata": {},
   "outputs": [
    {
     "name": "stdout",
     "output_type": "stream",
     "text": [
      "START RequestId: bab974b3-6a2e-4678-97fc-24cd46f6e77a Version: $LATEST\n",
      "END RequestId: bab974b3-6a2e-4678-97fc-24cd46f6e77a\n",
      "REPORT RequestId: bab974b3-6a2e-4678-97fc-24cd46f6e77a\tDuration: 11429.90 ms\tBilled Duration: 11430 ms\tMemory Size: 3008 MB\tMax Memory Used: 3009 MB\t\n",
      "RequestId: bab974b3-6a2e-4678-97fc-24cd46f6e77a Error: Runtime exited with error: signal: killed\n",
      "Runtime.ExitError\n",
      "\n",
      "{'errorMessage': 'RequestId: bab974b3-6a2e-4678-97fc-24cd46f6e77a Error: Runtime exited with error: signal: killed', 'errorType': 'Runtime.ExitError'}\n"
     ]
    }
   ],
   "source": [
    "bench_setup_1(32, [{\"start\": i*10, \"length\": 10*MEGA} for i in range(0,10)])"
   ]
  },
  {
   "cell_type": "code",
   "execution_count": 45,
   "metadata": {},
   "outputs": [
    {
     "name": "stdout",
     "output_type": "stream",
     "text": [
      "START RequestId: 78d20f32-a642-4eeb-bf18-65e3f228174c Version: $LATEST\n",
      "END RequestId: 78d20f32-a642-4eeb-bf18-65e3f228174c\n",
      "REPORT RequestId: 78d20f32-a642-4eeb-bf18-65e3f228174c\tDuration: 948.63 ms\tBilled Duration: 949 ms\tMemory Size: 3008 MB\tMax Memory Used: 1875 MB\t\n",
      "\n",
      "{'init_duration': 0, 'range_durations': [786, 786, 929, 929, 929, 929, 929, 929, 929, 945, 945, 946, 946, 946, 947, 947, 947, 947, 947, 947]}\n"
     ]
    }
   ],
   "source": [
    "bench_setup_1(32, [{\"start\": i*10, \"length\": 10*MEGA} for i in range(0,20)])"
   ]
  },
  {
   "cell_type": "code",
   "execution_count": 46,
   "metadata": {},
   "outputs": [
    {
     "name": "stdout",
     "output_type": "stream",
     "text": [
      "START RequestId: d13ce5ca-b613-4f8a-ba69-2f2b9065cd48 Version: $LATEST\n",
      "END RequestId: d13ce5ca-b613-4f8a-ba69-2f2b9065cd48\n",
      "REPORT RequestId: d13ce5ca-b613-4f8a-ba69-2f2b9065cd48\tDuration: 1973.40 ms\tBilled Duration: 1974 ms\tMemory Size: 3008 MB\tMax Memory Used: 2072 MB\t\n",
      "\n",
      "{'init_duration': 0, 'range_durations': [1519, 1519, 1519, 1519, 1519, 1519, 1519, 1519, 1806, 1806, 1806, 1806, 1806, 1806, 1806, 1836, 1836, 1972, 1972, 1972]}\n"
     ]
    }
   ],
   "source": [
    "bench_setup_1(10, [{\"start\": i*10, \"length\": 10*MEGA} for i in range(0,20)])"
   ]
  },
  {
   "cell_type": "markdown",
   "metadata": {},
   "source": [
    "### Notes:\n",
    "- *Max Memory Used* keeps increasing execution after execution (until OOM)\n",
    "- check that downloading 20 chunks is only 2x the duration of 10 chunks (with the proper `max_parallel`)"
   ]
  },
  {
   "cell_type": "markdown",
   "metadata": {},
   "source": [
    "# eu-west-1"
   ]
  },
  {
   "cell_type": "code",
   "execution_count": 12,
   "metadata": {},
   "outputs": [],
   "source": [
    "# specify the aws profile and region you want to use to deploy the stack\n",
    "aws_profile=\"bbdev\"\n",
    "region_name=\"eu-west-1\"\n",
    "\n",
    "MEGA = 1024*1024"
   ]
  },
  {
   "cell_type": "code",
   "execution_count": 13,
   "metadata": {},
   "outputs": [
    {
     "name": "stdout",
     "output_type": "stream",
     "text": [
      "lambda_name: arn:aws:lambda:eu-west-1:615900053518:function:cloud-reader-benchmark\n"
     ]
    }
   ],
   "source": [
    "lambda_name = !docker run \\\n",
    "    --rm \\\n",
    "    -v $HOME/.aws/credentials:/creds:ro \\\n",
    "    -v cloud-reader-tf:/mnt/state_vol \\\n",
    "    cloudfuse/cloud-reader-terraform output lambda_arn\n",
    "lambda_name = lambda_name[0][1:len(lambda_name[0])-1]\n",
    "print('lambda_name:', lambda_name)"
   ]
  },
  {
   "cell_type": "code",
   "execution_count": 14,
   "metadata": {},
   "outputs": [],
   "source": [
    "import boto3\n",
    "import json\n",
    "import base64\n",
    "\n",
    "session = boto3.Session(profile_name=aws_profile)\n",
    "client = session.client('lambda', region_name = region_name)"
   ]
  },
  {
   "cell_type": "code",
   "execution_count": 15,
   "metadata": {},
   "outputs": [],
   "source": [
    "def bench_setup_1(ranges):\n",
    "    inputParams = {\n",
    "        \"region\": region_name,\n",
    "        \"bucket\": \"cloudfuse-taxi-data-eu\",\n",
    "        \"key\": \"tpch/tbl-s1/lineitem.tbl\",\n",
    "        \"size\": 759863287,\n",
    "        \"ranges\": ranges\n",
    "    }\n",
    "    response = client.invoke(\n",
    "        FunctionName = lambda_name,\n",
    "        InvocationType = 'RequestResponse',\n",
    "        Payload = json.dumps(inputParams),\n",
    "        LogType='Tail'\n",
    "    )\n",
    "    print(base64.b64decode(response['LogResult']).decode(\"utf-8\") )\n",
    "    print(json.load(response['Payload']))\n"
   ]
  },
  {
   "cell_type": "code",
   "execution_count": 16,
   "metadata": {},
   "outputs": [
    {
     "name": "stdout",
     "output_type": "stream",
     "text": [
      "START RequestId: 303a4bb6-bff4-46e0-8b98-7c2112e5bf0d Version: $LATEST\n",
      "END RequestId: 303a4bb6-bff4-46e0-8b98-7c2112e5bf0d\n",
      "REPORT RequestId: 303a4bb6-bff4-46e0-8b98-7c2112e5bf0d\tDuration: 1098.28 ms\tBilled Duration: 1134 ms\tMemory Size: 3008 MB\tMax Memory Used: 132 MB\tInit Duration: 34.99 ms\t\n",
      "\n",
      "{'init_duration': 20, 'range_durations': [1072]}\n"
     ]
    }
   ],
   "source": [
    "bench_setup_1([{\"start\": 0, \"length\": 100*MEGA}])"
   ]
  }
 ],
 "metadata": {
  "kernelspec": {
   "display_name": "Python 3",
   "language": "python",
   "name": "python3"
  },
  "language_info": {
   "codemirror_mode": {
    "name": "ipython",
    "version": 3
   },
   "file_extension": ".py",
   "mimetype": "text/x-python",
   "name": "python",
   "nbconvert_exporter": "python",
   "pygments_lexer": "ipython3",
   "version": "3.6.9"
  }
 },
 "nbformat": 4,
 "nbformat_minor": 4
}
