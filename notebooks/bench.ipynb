{
 "cells": [
  {
   "cell_type": "code",
   "execution_count": 1,
   "metadata": {},
   "outputs": [],
   "source": [
    "# specify the aws profile and region you want to use to deploy the stack\n",
    "aws_profile=\"bbdev\"\n",
    "region_name=\"us-east-2\""
   ]
  },
  {
   "cell_type": "code",
   "execution_count": 10,
   "metadata": {},
   "outputs": [
    {
     "name": "stdout",
     "output_type": "stream",
     "text": [
      "lambda_name: arn:aws:lambda:us-east-2:615900053518:function:cloud-reader-benchmark\n"
     ]
    }
   ],
   "source": [
    "lambda_name = !docker run \\\n",
    "    --rm \\\n",
    "    -v $HOME/.aws/credentials:/creds:ro \\\n",
    "    -v cloud-reader-tf:/infra/ \\\n",
    "    cloudfuse/cloud-reader-terraform output lambda_arn\n",
    "lambda_name = lambda_name[0][1:len(lambda_name[0])-1]\n",
    "print('lambda_name:', lambda_name)"
   ]
  },
  {
   "cell_type": "code",
   "execution_count": 14,
   "metadata": {},
   "outputs": [
    {
     "name": "stdout",
     "output_type": "stream",
     "text": [
      "\n",
      "\n",
      "{'message': 'Hello, world!'}\n"
     ]
    }
   ],
   "source": [
    "import boto3\n",
    "import json\n",
    "\n",
    "session = boto3.Session(profile_name=aws_profile)\n",
    "client = session.client('lambda', region_name = region_name)\n",
    "\n",
    "inputParams = {}\n",
    "\n",
    "response = client.invoke(\n",
    "    FunctionName = lambda_name,\n",
    "    InvocationType = 'RequestResponse',\n",
    "    Payload = json.dumps(inputParams)\n",
    ")\n",
    "\n",
    "responseFromChild = json.load(response['Payload'])\n",
    "\n",
    "print('\\n')\n",
    "print(responseFromChild)"
   ]
  }
 ],
 "metadata": {
  "kernelspec": {
   "display_name": "Python 3",
   "language": "python",
   "name": "python3"
  },
  "language_info": {
   "codemirror_mode": {
    "name": "ipython",
    "version": 3
   },
   "file_extension": ".py",
   "mimetype": "text/x-python",
   "name": "python",
   "nbconvert_exporter": "python",
   "pygments_lexer": "ipython3",
   "version": "3.6.9"
  }
 },
 "nbformat": 4,
 "nbformat_minor": 4
}
