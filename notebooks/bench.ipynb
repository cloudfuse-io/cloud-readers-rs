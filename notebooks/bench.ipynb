{
 "cells": [
  {
   "cell_type": "markdown",
   "metadata": {},
   "source": [
    "# us-east-2"
   ]
  },
  {
   "cell_type": "code",
   "execution_count": 2,
   "metadata": {},
   "outputs": [],
   "source": [
    "# specify the aws profile and region you want to use to deploy the stack\n",
    "aws_profile=\"bbdev\"\n",
    "region_name=\"us-east-2\"\n",
    "\n",
    "MEGA = 1024*1024"
   ]
  },
  {
   "cell_type": "code",
   "execution_count": 3,
   "metadata": {},
   "outputs": [
    {
     "name": "stdout",
     "output_type": "stream",
     "text": [
      "lambda_name: arn:aws:lambda:us-east-2:615900053518:function:cloud-reader-benchmark\n"
     ]
    }
   ],
   "source": [
    "lambda_name = !docker run \\\n",
    "    --rm \\\n",
    "    -v $HOME/.aws/credentials:/creds:ro \\\n",
    "    -v cloud-reader-tf:/mnt/state_vol \\\n",
    "    cloudfuse/cloud-reader-terraform output lambda_arn\n",
    "lambda_name = lambda_name[0][1:len(lambda_name[0])-1]\n",
    "print('lambda_name:', lambda_name)"
   ]
  },
  {
   "cell_type": "code",
   "execution_count": 4,
   "metadata": {},
   "outputs": [],
   "source": [
    "import boto3\n",
    "import json\n",
    "import base64\n",
    "\n",
    "session = boto3.Session(profile_name=aws_profile)\n",
    "client = session.client('lambda', region_name = region_name)"
   ]
  },
  {
   "cell_type": "code",
   "execution_count": 5,
   "metadata": {},
   "outputs": [],
   "source": [
    "def bench_setup_1(max_parallel, ranges):\n",
    "    inputParams = {\n",
    "        \"region\": region_name,\n",
    "        \"bucket\": \"cloudfuse-taxi-data\",\n",
    "        \"key\": \"tpch/tbl-s1/lineitem.tbl\",\n",
    "        \"size\": 759863287,\n",
    "        \"ranges\": ranges,\n",
    "        \"max_parallel\": max_parallel,\n",
    "    }\n",
    "    response = client.invoke(\n",
    "        FunctionName = lambda_name,\n",
    "        InvocationType = 'RequestResponse',\n",
    "        Payload = json.dumps(inputParams),\n",
    "        LogType='Tail'\n",
    "    )\n",
    "    print(base64.b64decode(response['LogResult']).decode(\"utf-8\") )\n",
    "    print(json.load(response['Payload']))\n"
   ]
  },
  {
   "cell_type": "markdown",
   "metadata": {},
   "source": [
    "### 100MB chunks"
   ]
  },
  {
   "cell_type": "code",
   "execution_count": 32,
   "metadata": {},
   "outputs": [
    {
     "name": "stdout",
     "output_type": "stream",
     "text": [
      "START RequestId: c2de5630-3de9-4b7e-838b-41ed68a9e933 Version: $LATEST\n",
      "END RequestId: c2de5630-3de9-4b7e-838b-41ed68a9e933\n",
      "REPORT RequestId: c2de5630-3de9-4b7e-838b-41ed68a9e933\tDuration: 1285.74 ms\tBilled Duration: 1321 ms\tMemory Size: 3008 MB\tMax Memory Used: 132 MB\tInit Duration: 34.26 ms\t\n",
      "\n",
      "{'init_duration': 18, 'range_durations': [1262]}\n"
     ]
    }
   ],
   "source": [
    "bench_setup_1(32, [{\"start\": 0, \"length\": 100*MEGA}])"
   ]
  },
  {
   "cell_type": "code",
   "execution_count": 33,
   "metadata": {},
   "outputs": [
    {
     "name": "stdout",
     "output_type": "stream",
     "text": [
      "START RequestId: 323d3c03-1208-465b-9aa6-e98999b4f5ac Version: $LATEST\n",
      "END RequestId: 323d3c03-1208-465b-9aa6-e98999b4f5ac\n",
      "REPORT RequestId: 323d3c03-1208-465b-9aa6-e98999b4f5ac\tDuration: 1116.33 ms\tBilled Duration: 1117 ms\tMemory Size: 3008 MB\tMax Memory Used: 232 MB\t\n",
      "\n",
      "{'init_duration': 0, 'range_durations': [1115]}\n"
     ]
    }
   ],
   "source": [
    "bench_setup_1(32, [{\"start\": 0, \"length\": 100*MEGA}])"
   ]
  },
  {
   "cell_type": "markdown",
   "metadata": {},
   "source": [
    "### 10MB chunks"
   ]
  },
  {
   "cell_type": "code",
   "execution_count": 34,
   "metadata": {},
   "outputs": [
    {
     "name": "stdout",
     "output_type": "stream",
     "text": [
      "START RequestId: 280fc413-e624-4c02-aded-4912dd0d60bb Version: $LATEST\n",
      "END RequestId: 280fc413-e624-4c02-aded-4912dd0d60bb\n",
      "REPORT RequestId: 280fc413-e624-4c02-aded-4912dd0d60bb\tDuration: 112.30 ms\tBilled Duration: 113 ms\tMemory Size: 3008 MB\tMax Memory Used: 242 MB\t\n",
      "\n",
      "{'init_duration': 0, 'range_durations': [111]}\n"
     ]
    }
   ],
   "source": [
    "bench_setup_1(32, [{\"start\": 0, \"length\": 10*MEGA}])"
   ]
  },
  {
   "cell_type": "code",
   "execution_count": 35,
   "metadata": {},
   "outputs": [
    {
     "name": "stdout",
     "output_type": "stream",
     "text": [
      "START RequestId: c6b360cf-4f1e-4a67-b0db-39ddd8b67a29 Version: $LATEST\n",
      "END RequestId: c6b360cf-4f1e-4a67-b0db-39ddd8b67a29\n",
      "REPORT RequestId: c6b360cf-4f1e-4a67-b0db-39ddd8b67a29\tDuration: 108.39 ms\tBilled Duration: 109 ms\tMemory Size: 3008 MB\tMax Memory Used: 252 MB\t\n",
      "\n",
      "{'init_duration': 0, 'range_durations': [107]}\n"
     ]
    }
   ],
   "source": [
    "bench_setup_1(32, [{\"start\": 0, \"length\": 10*MEGA}])"
   ]
  },
  {
   "cell_type": "code",
   "execution_count": 10,
   "metadata": {},
   "outputs": [
    {
     "name": "stdout",
     "output_type": "stream",
     "text": [
      "START RequestId: 7c9d043b-a5cb-4dfc-aa75-f418c9a2cb31 Version: $LATEST\n",
      "END RequestId: 7c9d043b-a5cb-4dfc-aa75-f418c9a2cb31\n",
      "REPORT RequestId: 7c9d043b-a5cb-4dfc-aa75-f418c9a2cb31\tDuration: 714.70 ms\tBilled Duration: 715 ms\tMemory Size: 3008 MB\tMax Memory Used: 136 MB\t\n",
      "\n",
      "{'init_duration': 1, 'range_durations': [640, 640, 640, 689, 689, 689, 708, 708, 708, 708]}\n"
     ]
    }
   ],
   "source": [
    "bench_setup_1(32, [{\"start\": i*10, \"length\": 10*MEGA} for i in range(0,10)])"
   ]
  },
  {
   "cell_type": "code",
   "execution_count": 11,
   "metadata": {},
   "outputs": [
    {
     "name": "stdout",
     "output_type": "stream",
     "text": [
      "START RequestId: c5dff323-9458-411a-a6dd-684540d57218 Version: $LATEST\n",
      "END RequestId: c5dff323-9458-411a-a6dd-684540d57218\n",
      "REPORT RequestId: c5dff323-9458-411a-a6dd-684540d57218\tDuration: 1368.34 ms\tBilled Duration: 1369 ms\tMemory Size: 3008 MB\tMax Memory Used: 237 MB\t\n",
      "\n",
      "{'init_duration': 1, 'range_durations': [1345, 1345, 1345, 1345, 1356, 1356, 1356, 1356, 1356, 1356, 1356, 1356, 1356, 1356, 1356, 1356, 1356, 1356, 1356, 1356]}\n"
     ]
    }
   ],
   "source": [
    "bench_setup_1(32, [{\"start\": i*10, \"length\": 10*MEGA} for i in range(0,20)])"
   ]
  },
  {
   "cell_type": "code",
   "execution_count": 12,
   "metadata": {},
   "outputs": [
    {
     "name": "stdout",
     "output_type": "stream",
     "text": [
      "START RequestId: 0e8d6cb2-4904-4fa5-92d2-cbbf83c19cee Version: $LATEST\n",
      "END RequestId: 0e8d6cb2-4904-4fa5-92d2-cbbf83c19cee\n",
      "REPORT RequestId: 0e8d6cb2-4904-4fa5-92d2-cbbf83c19cee\tDuration: 871.85 ms\tBilled Duration: 872 ms\tMemory Size: 3008 MB\tMax Memory Used: 237 MB\t\n",
      "\n",
      "{'init_duration': 1, 'range_durations': [637, 637, 637, 637, 637, 637, 637, 637, 637, 637, 637, 637, 785, 817, 825, 858, 858, 861, 861, 861]}\n"
     ]
    }
   ],
   "source": [
    "bench_setup_1(10, [{\"start\": i*10, \"length\": 10*MEGA} for i in range(0,20)])"
   ]
  },
  {
   "cell_type": "markdown",
   "metadata": {},
   "source": [
    "### Notes:\n",
    "- *Max Memory Used* keeps increasing execution after execution (until OOM)\n",
    "- check that downloading 20 chunks is only 2x the duration of 10 chunks (with the proper `max_parallel`)"
   ]
  },
  {
   "cell_type": "markdown",
   "metadata": {},
   "source": [
    "# eu-west-1"
   ]
  },
  {
   "cell_type": "code",
   "execution_count": 12,
   "metadata": {},
   "outputs": [],
   "source": [
    "# specify the aws profile and region you want to use to deploy the stack\n",
    "aws_profile=\"bbdev\"\n",
    "region_name=\"eu-west-1\"\n",
    "\n",
    "MEGA = 1024*1024"
   ]
  },
  {
   "cell_type": "code",
   "execution_count": 13,
   "metadata": {},
   "outputs": [
    {
     "name": "stdout",
     "output_type": "stream",
     "text": [
      "lambda_name: arn:aws:lambda:eu-west-1:615900053518:function:cloud-reader-benchmark\n"
     ]
    }
   ],
   "source": [
    "lambda_name = !docker run \\\n",
    "    --rm \\\n",
    "    -v $HOME/.aws/credentials:/creds:ro \\\n",
    "    -v cloud-reader-tf:/mnt/state_vol \\\n",
    "    cloudfuse/cloud-reader-terraform output lambda_arn\n",
    "lambda_name = lambda_name[0][1:len(lambda_name[0])-1]\n",
    "print('lambda_name:', lambda_name)"
   ]
  },
  {
   "cell_type": "code",
   "execution_count": 14,
   "metadata": {},
   "outputs": [],
   "source": [
    "import boto3\n",
    "import json\n",
    "import base64\n",
    "\n",
    "session = boto3.Session(profile_name=aws_profile)\n",
    "client = session.client('lambda', region_name = region_name)"
   ]
  },
  {
   "cell_type": "code",
   "execution_count": 15,
   "metadata": {},
   "outputs": [],
   "source": [
    "def bench_setup_1(ranges):\n",
    "    inputParams = {\n",
    "        \"region\": region_name,\n",
    "        \"bucket\": \"cloudfuse-taxi-data-eu\",\n",
    "        \"key\": \"tpch/tbl-s1/lineitem.tbl\",\n",
    "        \"size\": 759863287,\n",
    "        \"ranges\": ranges\n",
    "    }\n",
    "    response = client.invoke(\n",
    "        FunctionName = lambda_name,\n",
    "        InvocationType = 'RequestResponse',\n",
    "        Payload = json.dumps(inputParams),\n",
    "        LogType='Tail'\n",
    "    )\n",
    "    print(base64.b64decode(response['LogResult']).decode(\"utf-8\") )\n",
    "    print(json.load(response['Payload']))\n"
   ]
  },
  {
   "cell_type": "code",
   "execution_count": 16,
   "metadata": {},
   "outputs": [
    {
     "name": "stdout",
     "output_type": "stream",
     "text": [
      "START RequestId: 303a4bb6-bff4-46e0-8b98-7c2112e5bf0d Version: $LATEST\n",
      "END RequestId: 303a4bb6-bff4-46e0-8b98-7c2112e5bf0d\n",
      "REPORT RequestId: 303a4bb6-bff4-46e0-8b98-7c2112e5bf0d\tDuration: 1098.28 ms\tBilled Duration: 1134 ms\tMemory Size: 3008 MB\tMax Memory Used: 132 MB\tInit Duration: 34.99 ms\t\n",
      "\n",
      "{'init_duration': 20, 'range_durations': [1072]}\n"
     ]
    }
   ],
   "source": [
    "bench_setup_1([{\"start\": 0, \"length\": 100*MEGA}])"
   ]
  }
 ],
 "metadata": {
  "kernelspec": {
   "display_name": "Python 3",
   "language": "python",
   "name": "python3"
  },
  "language_info": {
   "codemirror_mode": {
    "name": "ipython",
    "version": 3
   },
   "file_extension": ".py",
   "mimetype": "text/x-python",
   "name": "python",
   "nbconvert_exporter": "python",
   "pygments_lexer": "ipython3",
   "version": "3.6.9"
  }
 },
 "nbformat": 4,
 "nbformat_minor": 4
}
